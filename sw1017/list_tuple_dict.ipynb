{
 "cells": [
  {
   "cell_type": "markdown",
   "metadata": {},
   "source": [
    "## SW 소모임 1017\n",
    "\n",
    "- 리스트, 튜플, 딕셔너리에 대해 발표"
   ]
  },
  {
   "cell_type": "code",
   "execution_count": 4,
   "metadata": {},
   "outputs": [
    {
     "name": "stdout",
     "output_type": "stream",
     "text": [
      "[10, 20, 30] ['I', 'N', 'U']\n",
      "<class 'list'> <class 'list'>\n"
     ]
    }
   ],
   "source": [
    "# 리스트 생성\n",
    "a = [10, 20, 30]\n",
    "b = list(\"INU\")\n",
    "print(a, b)\n",
    "print(type(a), type(b))"
   ]
  },
  {
   "cell_type": "code",
   "execution_count": 7,
   "metadata": {},
   "outputs": [
    {
     "name": "stdout",
     "output_type": "stream",
     "text": [
      "10 30 30\n"
     ]
    },
    {
     "ename": "IndexError",
     "evalue": "list index out of range",
     "output_type": "error",
     "traceback": [
      "\u001b[0;31m---------------------------------------------------------------------------\u001b[0m",
      "\u001b[0;31mIndexError\u001b[0m                                Traceback (most recent call last)",
      "Cell \u001b[0;32mIn[7], line 4\u001b[0m\n\u001b[1;32m      2\u001b[0m a \u001b[38;5;241m=\u001b[39m [\u001b[38;5;241m10\u001b[39m, \u001b[38;5;241m20\u001b[39m, \u001b[38;5;241m30\u001b[39m]\n\u001b[1;32m      3\u001b[0m \u001b[38;5;28mprint\u001b[39m(a[\u001b[38;5;241m0\u001b[39m], a[\u001b[38;5;241m2\u001b[39m], a[\u001b[38;5;241m-\u001b[39m\u001b[38;5;241m1\u001b[39m])\n\u001b[0;32m----> 4\u001b[0m \u001b[38;5;28mprint\u001b[39m(\u001b[43ma\u001b[49m\u001b[43m[\u001b[49m\u001b[38;5;241;43m4\u001b[39;49m\u001b[43m]\u001b[49m)\n",
      "\u001b[0;31mIndexError\u001b[0m: list index out of range"
     ]
    }
   ],
   "source": [
    "# 리스트 원소 접근\n",
    "a = [10, 20, 30]\n",
    "print(a[0], a[2], a[-1])\n",
    "# 범위를 벗어난 접근\n",
    "print(a[4])"
   ]
  },
  {
   "cell_type": "code",
   "execution_count": 51,
   "metadata": {},
   "outputs": [
    {
     "name": "stdout",
     "output_type": "stream",
     "text": [
      "[1, 2, 3, 1, 5]\n"
     ]
    }
   ],
   "source": [
    "a = [1, 2, 3]\n",
    "b = [4, 5]\n",
    "b[0] = 1   # 인덱스 접근해 리스트 수정\n",
    "print(a+b) # 리스트 합치기\n"
   ]
  },
  {
   "cell_type": "code",
   "execution_count": 29,
   "metadata": {},
   "outputs": [
    {
     "name": "stdout",
     "output_type": "stream",
     "text": [
      "1 [1, 2]\n",
      "2 [3, 4, 5]\n",
      "3 [0, 1, 2]\n",
      "4 [0, 2, 4]\n",
      "5 [5, 4, 3]\n"
     ]
    }
   ],
   "source": [
    "# 리스트 슬라이싱\n",
    "a = [0, 1, 2, 3, 4, 5]\n",
    "print(\"1\", a[1:3])    # 1. 인덱스 1이상 3미만\n",
    "print(\"2\", a[3:])     # 2. 인덱스 3부터 끝까지\n",
    "print(\"3\", a[:3])     # 3. 처음부터 인덱스 3미만까지\n",
    "print(\"4\", a[::2])    # 4. 처음부터 끝까지 2씩 증가\n",
    "print(\"5\", a[5:2:-1]) # 5. 인덱스 5에서 2까지 -1씩"
   ]
  },
  {
   "cell_type": "code",
   "execution_count": 103,
   "metadata": {},
   "outputs": [
    {
     "name": "stdout",
     "output_type": "stream",
     "text": [
      "[[1, 2, 3], [4], [5, 6]]\n",
      "[1, 2, 3] [4]\n",
      "2\n",
      "6\n"
     ]
    }
   ],
   "source": [
    "# 리스트 원소는 또 다른 리스트일 수 있다.\n",
    "nested = [[1, 2, 3], [4], [5, 6]]\n",
    "print(nested)\n",
    "print(nested[0], nested[1])\n",
    "# 2차원 리스트의 원소에 접근하기\n",
    "print(nested[0][1])\n",
    "print(nested[2][1])"
   ]
  },
  {
   "cell_type": "code",
   "execution_count": 45,
   "metadata": {},
   "outputs": [
    {
     "name": "stdout",
     "output_type": "stream",
     "text": [
      "1\n",
      "2\n",
      "3\n",
      "4\n",
      "-\n",
      "1\n",
      "2\n",
      "3\n",
      "4\n"
     ]
    }
   ],
   "source": [
    "# 리스트 출력하기\n",
    "a = [1, 2, 3, 4]\n",
    "for i in range(len(a)):\n",
    "    print(a[i])\n",
    "\n",
    "print(\"-\")\n",
    "\n",
    "for i in a:\n",
    "    print(i)"
   ]
  },
  {
   "cell_type": "code",
   "execution_count": 102,
   "metadata": {},
   "outputs": [
    {
     "name": "stdout",
     "output_type": "stream",
     "text": [
      "<class 'int'>\n",
      "<class 'tuple'>\n"
     ]
    }
   ],
   "source": [
    "# 튜플 만들기\n",
    "i = (1)\n",
    "t = (1,)\n",
    "print(type(i))\n",
    "print(type(t))"
   ]
  },
  {
   "cell_type": "code",
   "execution_count": 56,
   "metadata": {},
   "outputs": [
    {
     "name": "stdout",
     "output_type": "stream",
     "text": [
      "128\n",
      "152\n"
     ]
    }
   ],
   "source": [
    "# 튜플, 리스트의 메모리 사용량\n",
    "a = \"Hello, world!\"\n",
    "t = tuple(a)\n",
    "l = list(a)\n",
    "print(t.__sizeof__())\n",
    "print(l.__sizeof__())"
   ]
  },
  {
   "cell_type": "code",
   "execution_count": 93,
   "metadata": {},
   "outputs": [
    {
     "ename": "TypeError",
     "evalue": "'tuple' object does not support item assignment",
     "output_type": "error",
     "traceback": [
      "\u001b[0;31m---------------------------------------------------------------------------\u001b[0m",
      "\u001b[0;31mTypeError\u001b[0m                                 Traceback (most recent call last)",
      "Cell \u001b[0;32mIn[93], line 2\u001b[0m\n\u001b[1;32m      1\u001b[0m t \u001b[38;5;241m=\u001b[39m (\u001b[38;5;241m1\u001b[39m, \u001b[38;5;241m2\u001b[39m, \u001b[38;5;241m3\u001b[39m)\n\u001b[0;32m----> 2\u001b[0m \u001b[43mt\u001b[49m\u001b[43m[\u001b[49m\u001b[38;5;241;43m0\u001b[39;49m\u001b[43m]\u001b[49m \u001b[38;5;241m=\u001b[39m \u001b[38;5;241m0\u001b[39m\n",
      "\u001b[0;31mTypeError\u001b[0m: 'tuple' object does not support item assignment"
     ]
    }
   ],
   "source": [
    "# 튜플은 변경 불가\n",
    "t = (1, 2, 3)\n",
    "t[0] = 0"
   ]
  },
  {
   "cell_type": "code",
   "execution_count": 61,
   "metadata": {},
   "outputs": [
    {
     "name": "stdout",
     "output_type": "stream",
     "text": [
      "20 24\n",
      "1 2 [3, 4, 5]\n"
     ]
    },
    {
     "data": {
      "text/plain": [
       "1"
      ]
     },
     "execution_count": 61,
     "metadata": {},
     "output_type": "execute_result"
    }
   ],
   "source": [
    "# 튜플 패킹, 언패킹\n",
    "t = (20, 24)\n",
    "x, y = t  # 변수 x, y에 튜플 대입\n",
    "print(x, y)\n",
    "\n",
    "nums = (1, 2, 3, 4, 5)\n",
    "n1, n2, *n3 = nums # n1, n2, 나머지들 리스트로 언패킹\n",
    "print(n1, n2, n3)\n",
    "\n",
    "nums.index(2)"
   ]
  },
  {
   "cell_type": "code",
   "execution_count": 74,
   "metadata": {},
   "outputs": [
    {
     "name": "stdout",
     "output_type": "stream",
     "text": [
      "0 1 2 3\n",
      "[1, 2, 2, 3, 3, 3, 4]\n",
      "[1, 2, 100, 2, 3, 3, 3, 4]\n",
      "2\n",
      "[1, 2, 2, 3, 3, 3, 4]\n",
      "[4, 3, 3, 3, 2, 2, 1]\n",
      "[1, 2, 2, 3, 3, 3, 4]\n"
     ]
    },
    {
     "data": {
      "text/plain": [
       "4"
      ]
     },
     "execution_count": 74,
     "metadata": {},
     "output_type": "execute_result"
    }
   ],
   "source": [
    "# 리스트 메소드\n",
    "a = [1, 2, 2, 3, 3, 3]\n",
    "print(a.count(0), a.count(1), a.count(2), a.count(3)) # 0,1,2,3 개수 세기\n",
    "\n",
    "a.append(4) # 4를 맨 뒤에 추가\n",
    "print(a)\n",
    "\n",
    "a.insert(2, 100) # 인덱스 2에 100 삽입\n",
    "print(a)\n",
    "\n",
    "print(a.index(100)) # 100의 인덱스 반환\n",
    "\n",
    "a.remove(100) # 100 제거\n",
    "print(a)\n",
    "\n",
    "a.reverse() # 역순으로 배열\n",
    "print(a) \n",
    "\n",
    "a.sort() # 오름차순 정렬\n",
    "print(a)\n",
    "\n",
    "a.pop() # 마지막 원소 삭제하고 반환"
   ]
  },
  {
   "cell_type": "code",
   "execution_count": 4,
   "metadata": {},
   "outputs": [
    {
     "name": "stdout",
     "output_type": "stream",
     "text": [
      "당근2\n",
      "{'apple': '사과', 'banana': '바나나', 'carrot': '당근2', 'donut': '도넛'}\n",
      "{'banana': '바나나', 'carrot': '당근2', 'donut': '도넛'}\n",
      "dict_keys(['banana', 'carrot', 'donut'])\n",
      "dict_values(['바나나', '당근2', '도넛'])\n",
      "dict_items([('banana', '바나나'), ('carrot', '당근2'), ('donut', '도넛')])\n",
      "True\n",
      "banana 바나나\n",
      "carrot 당근2\n",
      "donut 도넛\n"
     ]
    }
   ],
   "source": [
    "# 딕셔너리 자료형\n",
    "d = {\"apple\": \"사과\", \"banana\": \"바나나\", \"carrot\": \"당근1\", \"carrot\": \"당근2\"}\n",
    "print(d[\"carrot\"]) # key로 value 얻기, key 중복시 \"당근1\" 이라는 값이 무시됨\n",
    "\n",
    "d[\"donut\"] = \"도넛\" # 딕셔너리 쌍 추가하기\n",
    "print(d)\n",
    "\n",
    "del d[\"apple\"]  # 딕셔너리 요소 삭제하기\n",
    "print(d)\n",
    "\n",
    "print(d.keys())      # key 리스트 만들기\n",
    "print(d.values())    # values 리스트 만들기\n",
    "print(d.items())     # key, value 튜플로 묶어 보기\n",
    "\n",
    "print(\"banana\" in d) # \"banana\"가 딕셔너리에 있는지 보기\n",
    "for k, v in d.items():\n",
    "    print(k, v)\n"
   ]
  }
 ],
 "metadata": {
  "kernelspec": {
   "display_name": "Python 3",
   "language": "python",
   "name": "python3"
  },
  "language_info": {
   "codemirror_mode": {
    "name": "ipython",
    "version": 3
   },
   "file_extension": ".py",
   "mimetype": "text/x-python",
   "name": "python",
   "nbconvert_exporter": "python",
   "pygments_lexer": "ipython3",
   "version": "3.12.0"
  }
 },
 "nbformat": 4,
 "nbformat_minor": 2
}
