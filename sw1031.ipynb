{
 "cells": [
  {
   "cell_type": "markdown",
   "metadata": {},
   "source": [
    "### 안녕하세요."
   ]
  },
  {
   "cell_type": "code",
   "execution_count": 1,
   "metadata": {},
   "outputs": [
    {
     "name": "stdout",
     "output_type": "stream",
     "text": [
      "hello\n"
     ]
    }
   ],
   "source": [
    "print(\"hello\")"
   ]
  },
  {
   "cell_type": "code",
   "execution_count": 2,
   "metadata": {},
   "outputs": [
    {
     "name": "stdout",
     "output_type": "stream",
     "text": [
      "Requirement already satisfied: pandas in c:\\users\\rnjsg\\appdata\\local\\programs\\python\\python311\\lib\\site-packages (2.2.3)Note: you may need to restart the kernel to use updated packages.\n",
      "\n",
      "Requirement already satisfied: matplotlib in c:\\users\\rnjsg\\appdata\\local\\programs\\python\\python311\\lib\\site-packages (3.9.2)\n",
      "Requirement already satisfied: seaborn in c:\\users\\rnjsg\\appdata\\local\\programs\\python\\python311\\lib\\site-packages (0.13.2)\n",
      "Requirement already satisfied: numpy in c:\\users\\rnjsg\\appdata\\local\\programs\\python\\python311\\lib\\site-packages (2.1.2)\n",
      "Requirement already satisfied: python-dateutil>=2.8.2 in c:\\users\\rnjsg\\appdata\\roaming\\python\\python311\\site-packages (from pandas) (2.9.0.post0)\n",
      "Requirement already satisfied: pytz>=2020.1 in c:\\users\\rnjsg\\appdata\\local\\programs\\python\\python311\\lib\\site-packages (from pandas) (2024.2)\n",
      "Requirement already satisfied: tzdata>=2022.7 in c:\\users\\rnjsg\\appdata\\local\\programs\\python\\python311\\lib\\site-packages (from pandas) (2024.2)\n",
      "Requirement already satisfied: contourpy>=1.0.1 in c:\\users\\rnjsg\\appdata\\local\\programs\\python\\python311\\lib\\site-packages (from matplotlib) (1.3.0)\n",
      "Requirement already satisfied: cycler>=0.10 in c:\\users\\rnjsg\\appdata\\local\\programs\\python\\python311\\lib\\site-packages (from matplotlib) (0.12.1)\n",
      "Requirement already satisfied: fonttools>=4.22.0 in c:\\users\\rnjsg\\appdata\\local\\programs\\python\\python311\\lib\\site-packages (from matplotlib) (4.54.1)\n",
      "Requirement already satisfied: kiwisolver>=1.3.1 in c:\\users\\rnjsg\\appdata\\local\\programs\\python\\python311\\lib\\site-packages (from matplotlib) (1.4.7)\n",
      "Requirement already satisfied: packaging>=20.0 in c:\\users\\rnjsg\\appdata\\roaming\\python\\python311\\site-packages (from matplotlib) (24.1)\n",
      "Requirement already satisfied: pillow>=8 in c:\\users\\rnjsg\\appdata\\local\\programs\\python\\python311\\lib\\site-packages (from matplotlib) (10.4.0)\n",
      "Requirement already satisfied: pyparsing>=2.3.1 in c:\\users\\rnjsg\\appdata\\local\\programs\\python\\python311\\lib\\site-packages (from matplotlib) (3.2.0)\n",
      "Requirement already satisfied: six>=1.5 in c:\\users\\rnjsg\\appdata\\roaming\\python\\python311\\site-packages (from python-dateutil>=2.8.2->pandas) (1.16.0)\n"
     ]
    },
    {
     "name": "stderr",
     "output_type": "stream",
     "text": [
      "\n",
      "[notice] A new release of pip is available: 23.1.2 -> 24.3.1\n",
      "[notice] To update, run: python.exe -m pip install --upgrade pip\n"
     ]
    }
   ],
   "source": [
    "pip install pandas matplotlib seaborn numpy "
   ]
  },
  {
   "cell_type": "code",
   "execution_count": 3,
   "metadata": {},
   "outputs": [],
   "source": [
    "import pandas as pd\n",
    "import statistics as stats"
   ]
  },
  {
   "cell_type": "code",
   "execution_count": 4,
   "metadata": {},
   "outputs": [
    {
     "name": "stdout",
     "output_type": "stream",
     "text": [
      "Requirement already satisfied: openpyxl in c:\\users\\rnjsg\\appdata\\local\\programs\\python\\python311\\lib\\site-packages (3.1.5)\n",
      "Requirement already satisfied: et-xmlfile in c:\\users\\rnjsg\\appdata\\local\\programs\\python\\python311\\lib\\site-packages (from openpyxl) (1.1.0)\n",
      "Note: you may need to restart the kernel to use updated packages.\n"
     ]
    },
    {
     "name": "stderr",
     "output_type": "stream",
     "text": [
      "\n",
      "[notice] A new release of pip is available: 23.1.2 -> 24.3.1\n",
      "[notice] To update, run: python.exe -m pip install --upgrade pip\n"
     ]
    }
   ],
   "source": [
    "pip install openpyxl\n"
   ]
  },
  {
   "cell_type": "markdown",
   "metadata": {},
   "source": [
    "리스트"
   ]
  },
  {
   "cell_type": "code",
   "execution_count": 5,
   "metadata": {},
   "outputs": [
    {
     "name": "stdout",
     "output_type": "stream",
     "text": [
      "평균: 85.85714285714286, 분산: 61.80952380952381, 표준편차: 7.861903319777204\n",
      "80점 이상 90점 이하인 학생들의 성적: [85, 88, 90]\n"
     ]
    }
   ],
   "source": [
    "# 엑셀 파일에서 데이터 읽기\n",
    "df = pd.read_excel(r'C:\\Users\\rnjsg\\OneDrive\\바탕 화면\\Python_data\\students_scores.xlsx')\n",
    "\n",
    "# 성적을 리스트로 변환\n",
    "scores = df['성적'].tolist()\n",
    "\n",
    "# 평균, 분산, 표준편차 계산\n",
    "average = stats.mean(scores)\n",
    "variance = stats.variance(scores)\n",
    "std_dev = stats.stdev(scores)\n",
    "\n",
    "print(f\"평균: {average}, 분산: {variance}, 표준편차: {std_dev}\")\n",
    "\n",
    "# 성적이 80점 이상 90점 이하인 학생들 필터링\n",
    "filtered_scores = [score for score in scores if 80 <= score <= 90]\n",
    "print(f\"80점 이상 90점 이하인 학생들의 성적: {filtered_scores}\")"
   ]
  },
  {
   "cell_type": "code",
   "execution_count": 6,
   "metadata": {},
   "outputs": [
    {
     "data": {
      "text/plain": [
       "'\\n# 성적을 리스트로 변환\\nscores = df[\\'성적\\'].tolist()\\n\\n# 1. append(): 리스트에 값을 추가\\nscores.append(88)\\nprint(scores)  # [85, 92, 78, 88, 90, 73, 95, 88]\\n\\n# 2. extend(): 리스트에 여러 값을 한꺼번에 추가\\nnew_scores = [70, 82, 77]\\nscores.extend(new_scores)\\nprint(scores)  # [85, 92, 78, 88, 90, 73, 95, 88, 70, 82, 77]\\n\\n# 3. insert(): 특정 위치에 값을 삽입\\nscores.insert(2, 80)\\nprint(scores)  # [85, 92, 80, 78, 88, 90, 73, 95, 88, 70, 82, 77]\\n\\n# 4. remove(): 리스트에서 특정 값을 제거\\nscores.remove(88)\\nprint(scores)  # [85, 92, 80, 78, 88, 90, 73, 95, 70, 82, 77]\\n\\n# 5. pop(): 리스트의 마지막 요소 또는 특정 인덱스의 값을 제거하고 반환\\nlast_score = scores.pop()\\nprint(f\"제거된 마지막 성적: {last_score}\")\\nprint(scores)  # [85, 92, 80, 78, 88, 90, 73, 95, 70, 82]\\n\\n# 6. sort(): 리스트를 오름차순으로 정렬\\nscores.sort()\\nprint(f\"정렬된 성적: {scores}\")  # [70, 73, 78, 80, 82, 85, 88, 90, 92, 95]\\n\\n# 7. reverse(): 리스트의 순서를 뒤집음\\nscores.reverse()\\nprint(f\"역순 정렬된 성적: {scores}\")  # [95, 92, 90, 88, 85, 82, 80, 78, 73, 70]\\n'"
      ]
     },
     "execution_count": 6,
     "metadata": {},
     "output_type": "execute_result"
    }
   ],
   "source": [
    "import pandas as pd\n",
    "\n",
    "# 엑셀 파일에서 데이터 읽기\n",
    "df = pd.read_excel(r'C:\\Users\\rnjsg\\OneDrive\\바탕 화면\\Python_data\\students_scores.xlsx')\n",
    "'''\n",
    "# 성적을 리스트로 변환\n",
    "scores = df['성적'].tolist()\n",
    "\n",
    "# 1. append(): 리스트에 값을 추가\n",
    "scores.append(88)\n",
    "print(scores)  # [85, 92, 78, 88, 90, 73, 95, 88]\n",
    "\n",
    "# 2. extend(): 리스트에 여러 값을 한꺼번에 추가\n",
    "new_scores = [70, 82, 77]\n",
    "scores.extend(new_scores)\n",
    "print(scores)  # [85, 92, 78, 88, 90, 73, 95, 88, 70, 82, 77]\n",
    "\n",
    "# 3. insert(): 특정 위치에 값을 삽입\n",
    "scores.insert(2, 80)\n",
    "print(scores)  # [85, 92, 80, 78, 88, 90, 73, 95, 88, 70, 82, 77]\n",
    "\n",
    "# 4. remove(): 리스트에서 특정 값을 제거\n",
    "scores.remove(88)\n",
    "print(scores)  # [85, 92, 80, 78, 88, 90, 73, 95, 70, 82, 77]\n",
    "\n",
    "# 5. pop(): 리스트의 마지막 요소 또는 특정 인덱스의 값을 제거하고 반환\n",
    "last_score = scores.pop()\n",
    "print(f\"제거된 마지막 성적: {last_score}\")\n",
    "print(scores)  # [85, 92, 80, 78, 88, 90, 73, 95, 70, 82]\n",
    "\n",
    "# 6. sort(): 리스트를 오름차순으로 정렬\n",
    "scores.sort()\n",
    "print(f\"정렬된 성적: {scores}\")  # [70, 73, 78, 80, 82, 85, 88, 90, 92, 95]\n",
    "\n",
    "# 7. reverse(): 리스트의 순서를 뒤집음\n",
    "scores.reverse()\n",
    "print(f\"역순 정렬된 성적: {scores}\")  # [95, 92, 90, 88, 85, 82, 80, 78, 73, 70]\n",
    "'''"
   ]
  },
  {
   "cell_type": "markdown",
   "metadata": {},
   "source": [
    "딕셔너리"
   ]
  },
  {
   "cell_type": "code",
   "execution_count": 7,
   "metadata": {},
   "outputs": [
    {
     "name": "stdout",
     "output_type": "stream",
     "text": [
      "재고가 20개 이하인 제품:\n",
      "grape: 재고 15개\n",
      "mango: 재고 5개\n",
      "\n",
      "가격이 10% 인상된 제품 목록:\n",
      "apple: 1100.0원\n",
      "banana: 550.0원\n",
      "orange: 880.0000000000001원\n",
      "grape: 1650.0000000000002원\n",
      "mango: 2200.0원\n"
     ]
    }
   ],
   "source": [
    "# 엑셀 파일에서 데이터 읽기\n",
    "df = pd.read_excel(r'C:\\Users\\rnjsg\\OneDrive\\바탕 화면\\Python_data\\products.xlsx')\n",
    "\n",
    "# 제품 정보를 딕셔너리로 변환\n",
    "products = df.set_index('제품명').T.to_dict()\n",
    "\n",
    "# 재고가 20개 이하인 제품들 확인\n",
    "low_stock_products = {name: info for name, info in products.items() if info['재고'] <= 20}\n",
    "print(\"재고가 20개 이하인 제품:\")\n",
    "for name, info in low_stock_products.items():\n",
    "    print(f\"{name}: 재고 {info['재고']}개\")\n",
    "\n",
    "# 가격을 10% 인상\n",
    "for product in products:\n",
    "    products[product]['가격'] *= 1.1\n",
    "\n",
    "# 가격이 인상된 제품 정보 출력\n",
    "print(\"\\n가격이 10% 인상된 제품 목록:\")\n",
    "for name, info in products.items():\n",
    "    print(f\"{name}: {info['가격']}원\")\n"
   ]
  },
  {
   "cell_type": "code",
   "execution_count": 8,
   "metadata": {},
   "outputs": [
    {
     "data": {
      "text/plain": [
       "'\\n# 1. update(): 여러 값을 한꺼번에 수정하거나 추가\\nproducts[\\'apple\\'][\\'가격\\'] *= 1.05\\nproducts.update({\\'mango\\': {\\'가격\\': 2100, \\'재고\\': 50}})  # 망고 제품 추가\\nprint(products)\\n\\n# 2. keys(): 딕셔너리의 모든 키 반환\\nproduct_keys = products.keys()\\nprint(f\"제품 목록: {product_keys}\")  # dict_keys([\\'apple\\', \\'banana\\', \\'orange\\', \\'grape\\', \\'mango\\'])\\n\\n# 3. values(): 딕셔너리의 모든 값 반환\\nproduct_values = products.values()\\nprint(f\"제품 정보: {product_values}\")\\n\\n# 4. items(): 딕셔너리의 키-값 쌍을 반환\\nproduct_items = products.items()\\nprint(f\"제품과 그 정보: {product_items}\")\\n\\n# 5. get(): 키를 통해 값을 반환, 키가 없으면 None 또는 기본값 반환\\nmango_price = products.get(\\'mango\\', {}).get(\\'가격\\', \\'정보 없음\\')\\nprint(f\"망고의 가격: {mango_price}\")  # 망고가 있으면 가격, 없으면 \\'정보 없음\\'\\n\\n# 6. pop(): 특정 키-값 쌍을 제거하고 그 값을 반환\\nremoved_item = products.pop(\\'grape\\', \\'제품이 없습니다.\\')\\nprint(f\"제거된 제품 정보: {removed_item}\")\\n'"
      ]
     },
     "execution_count": 8,
     "metadata": {},
     "output_type": "execute_result"
    }
   ],
   "source": [
    "import pandas as pd\n",
    "\n",
    "# 엑셀 파일에서 데이터 읽기\n",
    "df = pd.read_excel(r'C:\\Users\\rnjsg\\OneDrive\\바탕 화면\\Python_data\\products.xlsx')\n",
    "\n",
    "# 제품 정보를 딕셔너리로 변환\n",
    "products = df.set_index('제품명').T.to_dict()\n",
    "'''\n",
    "# 1. update(): 여러 값을 한꺼번에 수정하거나 추가\n",
    "products['apple']['가격'] *= 1.05\n",
    "products.update({'mango': {'가격': 2100, '재고': 50}})  # 망고 제품 추가\n",
    "print(products)\n",
    "\n",
    "# 2. keys(): 딕셔너리의 모든 키 반환\n",
    "product_keys = products.keys()\n",
    "print(f\"제품 목록: {product_keys}\")  # dict_keys(['apple', 'banana', 'orange', 'grape', 'mango'])\n",
    "\n",
    "# 3. values(): 딕셔너리의 모든 값 반환\n",
    "product_values = products.values()\n",
    "print(f\"제품 정보: {product_values}\")\n",
    "\n",
    "# 4. items(): 딕셔너리의 키-값 쌍을 반환\n",
    "product_items = products.items()\n",
    "print(f\"제품과 그 정보: {product_items}\")\n",
    "\n",
    "# 5. get(): 키를 통해 값을 반환, 키가 없으면 None 또는 기본값 반환\n",
    "mango_price = products.get('mango', {}).get('가격', '정보 없음')\n",
    "print(f\"망고의 가격: {mango_price}\")  # 망고가 있으면 가격, 없으면 '정보 없음'\n",
    "\n",
    "# 6. pop(): 특정 키-값 쌍을 제거하고 그 값을 반환\n",
    "removed_item = products.pop('grape', '제품이 없습니다.')\n",
    "print(f\"제거된 제품 정보: {removed_item}\")\n",
    "'''"
   ]
  },
  {
   "cell_type": "markdown",
   "metadata": {},
   "source": [
    "튜플"
   ]
  },
  {
   "cell_type": "code",
   "execution_count": 9,
   "metadata": {},
   "outputs": [
    {
     "ename": "NameError",
     "evalue": "name 'math' is not defined",
     "output_type": "error",
     "traceback": [
      "\u001b[1;31m---------------------------------------------------------------------------\u001b[0m",
      "\u001b[1;31mNameError\u001b[0m                                 Traceback (most recent call last)",
      "Cell \u001b[1;32mIn[9], line 10\u001b[0m\n\u001b[0;32m      8\u001b[0m x1, y1 \u001b[38;5;241m=\u001b[39m coordinates[\u001b[38;5;241m0\u001b[39m]\n\u001b[0;32m      9\u001b[0m x2, y2 \u001b[38;5;241m=\u001b[39m coordinates[\u001b[38;5;241m1\u001b[39m]\n\u001b[1;32m---> 10\u001b[0m distance \u001b[38;5;241m=\u001b[39m \u001b[43mmath\u001b[49m\u001b[38;5;241m.\u001b[39msqrt((x2 \u001b[38;5;241m-\u001b[39m x1)\u001b[38;5;241m*\u001b[39m\u001b[38;5;241m*\u001b[39m\u001b[38;5;241m2\u001b[39m \u001b[38;5;241m+\u001b[39m (y2 \u001b[38;5;241m-\u001b[39m y1)\u001b[38;5;241m*\u001b[39m\u001b[38;5;241m*\u001b[39m\u001b[38;5;241m2\u001b[39m)\n\u001b[0;32m     11\u001b[0m \u001b[38;5;28mprint\u001b[39m(\u001b[38;5;124mf\u001b[39m\u001b[38;5;124m\"\u001b[39m\u001b[38;5;124m첫 번째 좌표와 두 번째 좌표 간 거리: \u001b[39m\u001b[38;5;132;01m{\u001b[39;00mdistance\u001b[38;5;132;01m}\u001b[39;00m\u001b[38;5;124m\"\u001b[39m)\n\u001b[0;32m     13\u001b[0m \u001b[38;5;66;03m# 좌표 변환 (모든 좌표에 +10씩 더하기)\u001b[39;00m\n",
      "\u001b[1;31mNameError\u001b[0m: name 'math' is not defined"
     ]
    }
   ],
   "source": [
    "\n",
    "# 엑셀 파일에서 데이터 읽기\n",
    "df = pd.read_excel(r'C:\\Users\\rnjsg\\OneDrive\\바탕 화면\\Python_data\\coordinates.xlsx')\n",
    "\n",
    "# 좌표 데이터를 튜플로 변환\n",
    "coordinates = [tuple(x) for x in df[['x', 'y']].values]\n",
    "\n",
    "# 첫 번째 좌표와 두 번째 좌표 간 거리 계산 (유클리드 거리)\n",
    "x1, y1 = coordinates[0]\n",
    "x2, y2 = coordinates[1]\n",
    "distance = math.sqrt((x2 - x1)**2 + (y2 - y1)**2)\n",
    "print(f\"첫 번째 좌표와 두 번째 좌표 간 거리: {distance}\")\n",
    "\n",
    "# 좌표 변환 (모든 좌표에 +10씩 더하기)\n",
    "transformed_coordinates = [(x + 10, y + 10) for x, y in coordinates]\n",
    "print(\"변환된 좌표:\")\n",
    "print(transformed_coordinates)\n"
   ]
  },
  {
   "cell_type": "code",
   "execution_count": 17,
   "metadata": {},
   "outputs": [
    {
     "name": "stdout",
     "output_type": "stream",
     "text": [
      "2가 튜플에 나타나는 횟수: 3\n",
      "처음으로 2가 나타나는 위치: 1\n",
      "첫 번째 좌표와 두 번째 좌표 간 거리: 28.284271247461902\n",
      "변환된 좌표: [(np.int64(20), np.int64(30)), (np.int64(40), np.int64(50)), (np.int64(60), np.int64(70))]\n"
     ]
    }
   ],
   "source": [
    "import pandas as pd\n",
    "import math\n",
    "\n",
    "# 엑셀 파일에서 데이터 읽기\n",
    "df = pd.read_excel(r'C:\\Users\\rnjsg\\OneDrive\\바탕 화면\\Python_data\\coordinates.xlsx')\n",
    "\n",
    "# 좌표 데이터를 튜플로 변환\n",
    "coordinates = [tuple(x) for x in df[['x', 'y']].values]\n",
    "'''\n",
    "# 1. count(): 특정 값이 튜플에서 몇 번 나타나는지 반환\n",
    "sample_tuple = (1, 2, 2, 3, 4, 2)\n",
    "count_of_twos = sample_tuple.count(2)\n",
    "print(f\"2가 튜플에 나타나는 횟수: {count_of_twos}\")\n",
    "\n",
    "# 2. index(): 특정 값이 처음 나타나는 인덱스를 반환\n",
    "index_of_two = sample_tuple.index(2)\n",
    "print(f\"처음으로 2가 나타나는 위치: {index_of_two}\")\n",
    "\n",
    "# 3. 좌표 간 거리 계산 (유클리드 거리)\n",
    "x1, y1 = coordinates[0]\n",
    "x2, y2 = coordinates[1]\n",
    "distance = math.sqrt((x2 - x1)**2 + (y2 - y1)**2)\n",
    "print(f\"첫 번째 좌표와 두 번째 좌표 간 거리: {distance}\")\n",
    "\n",
    "# 4. 좌표 변환 (모든 좌표에 +10씩 더하기)\n",
    "transformed_coordinates = [(x + 10, y + 10) for x, y in coordinates]\n",
    "print(f\"변환된 좌표: {transformed_coordinates}\")\n",
    "''''''"
   ]
  },
  {
   "cell_type": "code",
   "execution_count": 10,
   "metadata": {},
   "outputs": [
    {
     "name": "stdout",
     "output_type": "stream",
     "text": [
      "Series 출력:\n",
      "0    10\n",
      "1    20\n",
      "2    30\n",
      "3    40\n",
      "4    50\n",
      "dtype: int64\n"
     ]
    }
   ],
   "source": [
    "# Series 생성\n",
    "data = [10, 20, 30, 40, 50]\n",
    "series = pd.Series(data)\n",
    "\n",
    "print(\"Series 출력:\")\n",
    "print(series)\n"
   ]
  },
  {
   "cell_type": "code",
   "execution_count": 11,
   "metadata": {},
   "outputs": [
    {
     "name": "stdout",
     "output_type": "stream",
     "text": [
      "Series:\n",
      "a    10\n",
      "b    20\n",
      "c    30\n",
      "dtype: int64\n"
     ]
    }
   ],
   "source": [
    "import pandas as pd\n",
    "\n",
    "data = [10, 20, 30]\n",
    "series = pd.Series(data, index=['a', 'b', 'c'])\n",
    "\n",
    "print(\"Series:\")\n",
    "print(series)\n"
   ]
  },
  {
   "cell_type": "code",
   "execution_count": 13,
   "metadata": {},
   "outputs": [
    {
     "name": "stdout",
     "output_type": "stream",
     "text": [
      "Series 평균: 30.0\n",
      "Series 합계: 150\n"
     ]
    }
   ],
   "source": [
    "import pandas as pd\n",
    "\n",
    "# Sample Series\n",
    "data = [10, 20, 30, 40, 50]\n",
    "series = pd.Series(data)\n",
    "\n",
    "# 변환 예시\n",
    "mean_value = float(series.mean())\n",
    "sum_value = int(series.sum())\n",
    "\n",
    "print(\"Series 평균:\", mean_value)\n",
    "print(\"Series 합계:\", sum_value)\n"
   ]
  },
  {
   "cell_type": "code",
   "execution_count": 14,
   "metadata": {},
   "outputs": [
    {
     "name": "stdout",
     "output_type": "stream",
     "text": [
      "월별 매출 Series:\n",
      "January     100\n",
      "February    150\n",
      "March       200\n",
      "dtype: int64\n"
     ]
    }
   ],
   "source": [
    "sales_data = [100, 150, 200]\n",
    "months = ['January', 'February', 'March']\n",
    "sales_series = pd.Series(sales_data, index=months)\n",
    "\n",
    "print(\"월별 매출 Series:\")\n",
    "print(sales_series)\n"
   ]
  },
  {
   "cell_type": "code",
   "execution_count": 15,
   "metadata": {},
   "outputs": [
    {
     "name": "stdout",
     "output_type": "stream",
     "text": [
      "DataFrame 출력:\n",
      "      Name  Age     City\n",
      "0    Alice   25    Seoul\n",
      "1      Bob   30    Busan\n",
      "2  Charlie   35  Incheon\n",
      "3    David   40    Daegu\n"
     ]
    }
   ],
   "source": [
    "# DataFrame 생성\n",
    "data = {\n",
    "    \"Name\": [\"Alice\", \"Bob\", \"Charlie\", \"David\"],\n",
    "    \"Age\": [25, 30, 35, 40],\n",
    "    \"City\": [\"Seoul\", \"Busan\", \"Incheon\", \"Daegu\"]\n",
    "}\n",
    "df = pd.DataFrame(data)\n",
    "\n",
    "print(\"DataFrame 출력:\")\n",
    "print(df)\n"
   ]
  },
  {
   "cell_type": "code",
   "execution_count": 5,
   "metadata": {},
   "outputs": [
    {
     "name": "stdout",
     "output_type": "stream",
     "text": [
      "데이터 불러오기:\n",
      "       Title  Year  Rating  Viewer_Count\n",
      "0  Inception  2010     4.5       1500000\n",
      "1     Avatar  2009     4.0       2000000\n",
      "2   Avengers  2012     4.8       1800000\n",
      "3  Inception  2010     5.0       1200000\n",
      "4     Avatar  2009     4.2       2200000\n",
      "5   Avengers  2012     4.9       1750000\n"
     ]
    }
   ],
   "source": [
    "import pandas as pd\n",
    "\n",
    "# 파일 경로에 맞춰 CSV 파일 불러오기\n",
    "file_path = r\"C:\\Users\\rnjsg\\OneDrive\\바탕 화면\\Python_data\\movie_ratings.csv\"\n",
    "df = pd.read_csv(file_path)\n",
    "\n",
    "print(\"데이터 불러오기:\")\n",
    "print(df)\n"
   ]
  },
  {
   "cell_type": "code",
   "execution_count": 21,
   "metadata": {},
   "outputs": [
    {
     "name": "stdout",
     "output_type": "stream",
     "text": [
      "\n",
      "선택한 열:\n",
      "       Title  Rating\n",
      "0  Inception     4.5\n",
      "1     Avatar     4.0\n",
      "2   Avengers     4.8\n",
      "3  Inception     5.0\n",
      "4     Avatar     4.2\n",
      "5   Avengers     4.9\n"
     ]
    }
   ],
   "source": [
    "selected_columns = df[[\"Title\", \"Rating\"]]\n",
    "print(\"\\n선택한 열:\")\n",
    "print(selected_columns)\n"
   ]
  },
  {
   "cell_type": "code",
   "execution_count": 6,
   "metadata": {},
   "outputs": [
    {
     "name": "stdout",
     "output_type": "stream",
     "text": [
      "\n",
      "평점이 4.5 이상인 영화:\n",
      "       Title  Year  Rating  Viewer_Count\n",
      "0  Inception  2010     4.5       1500000\n",
      "2   Avengers  2012     4.8       1800000\n",
      "3  Inception  2010     5.0       1200000\n",
      "5   Avengers  2012     4.9       1750000\n"
     ]
    }
   ],
   "source": [
    "high_rating_movies = df[df[\"Rating\"] >= 4.5]\n",
    "print(\"\\n평점이 4.5 이상인 영화:\")\n",
    "print(high_rating_movies)\n",
    "\n"
   ]
  },
  {
   "cell_type": "code",
   "execution_count": 24,
   "metadata": {},
   "outputs": [
    {
     "name": "stdout",
     "output_type": "stream",
     "text": [
      "\n",
      "평점 순으로 정렬된 영화 목록:\n",
      "       Title  Year  Rating  Viewer_Count\n",
      "3  Inception  2010     5.0       1200000\n",
      "5   Avengers  2012     4.9       1750000\n",
      "2   Avengers  2012     4.8       1800000\n",
      "0  Inception  2010     4.5       1500000\n",
      "4     Avatar  2009     4.2       2200000\n",
      "1     Avatar  2009     4.0       2000000\n"
     ]
    }
   ],
   "source": [
    "sorted_by_rating = df.sort_values(by=\"Rating\", ascending=False)\n",
    "print(\"\\n평점 순으로 정렬된 영화 목록:\")\n",
    "print(sorted_by_rating)\n"
   ]
  },
  {
   "cell_type": "code",
   "execution_count": 2,
   "metadata": {},
   "outputs": [
    {
     "name": "stdout",
     "output_type": "stream",
     "text": [
      "기본 Series 출력:\n",
      "0    100\n",
      "1    200\n",
      "2    300\n",
      "dtype: int64\n",
      "\n",
      "인덱스에 과목명을 부여한 Series 출력:\n",
      "Math       100\n",
      "Science    200\n",
      "English    300\n",
      "dtype: int64\n"
     ]
    }
   ],
   "source": [
    "import pandas as pd\n",
    "\n",
    "# 기본적인 Series 생성과 출력\n",
    "data = [100, 200, 300]\n",
    "series_default = pd.Series(data)\n",
    "print(\"기본 Series 출력:\")\n",
    "print(series_default)\n",
    "\n",
    "# 인덱스에 의미를 부여한 Series 생성\n",
    "index_labels = [\"Math\", \"Science\", \"English\"]\n",
    "series_with_index = pd.Series(data, index=index_labels)\n",
    "\n",
    "print(\"\\n인덱스에 과목명을 부여한 Series 출력:\")\n",
    "print(series_with_index)\n"
   ]
  },
  {
   "cell_type": "code",
   "execution_count": 3,
   "metadata": {},
   "outputs": [
    {
     "name": "stdout",
     "output_type": "stream",
     "text": [
      "Science 과목 점수: 85\n",
      "\n",
      "85점 이상인 과목:\n",
      "Math       90\n",
      "Science    85\n",
      "History    92\n",
      "Art        88\n",
      "dtype: int64\n",
      "\n",
      "Series의 데이터 타입 (dtype): int64\n",
      "\n",
      "과목 점수의 평균값: 86.6\n",
      "과목 점수의 최대값: 92\n",
      "과목 점수의 최소값: 78\n"
     ]
    }
   ],
   "source": [
    "import pandas as pd\n",
    "\n",
    "# Series 생성\n",
    "data = [90, 85, 78, 92, 88]\n",
    "index_labels = [\"Math\", \"Science\", \"English\", \"History\", \"Art\"]\n",
    "grades = pd.Series(data, index=index_labels)\n",
    "\n",
    "# 인덱스를 통해 특정 과목의 점수 접근\n",
    "print(\"Science 과목 점수:\", grades[\"Science\"])\n",
    "\n",
    "# 조건을 사용한 필터링: 85점 이상인 과목들\n",
    "high_grades = grades[grades >= 85]\n",
    "print(\"\\n85점 이상인 과목:\")\n",
    "print(high_grades)\n",
    "\n",
    "# 데이터 타입 확인\n",
    "print(\"\\nSeries의 데이터 타입 (dtype):\", grades.dtype)\n",
    "\n",
    "# 통계 연산: 평균, 최대값, 최소값\n",
    "print(\"\\n과목 점수의 평균값:\", grades.mean())\n",
    "print(\"과목 점수의 최대값:\", grades.max())\n",
    "print(\"과목 점수의 최소값:\", grades.min())\n"
   ]
  },
  {
   "cell_type": "code",
   "execution_count": 1,
   "metadata": {},
   "outputs": [
    {
     "name": "stdout",
     "output_type": "stream",
     "text": [
      "DataFrame (학생 정보와 성적):\n",
      "      Name  Age Grade  Score\n",
      "0    Alice   23     A   88.5\n",
      "1      Bob   24     B   79.2\n",
      "2  Charlie   22     B   85.0\n",
      "3    David   25     A   91.3\n"
     ]
    }
   ],
   "source": [
    "import pandas as pd\n",
    "\n",
    "# 학생 정보 DataFrame 생성\n",
    "data = {\n",
    "    \"Name\": [\"Alice\", \"Bob\", \"Charlie\", \"David\"],\n",
    "    \"Age\": [23, 24, 22, 25],\n",
    "    \"Grade\": [\"A\", \"B\", \"B\", \"A\"],\n",
    "    \"Score\": [88.5, 79.2, 85.0, 91.3]\n",
    "}\n",
    "df = pd.DataFrame(data)\n",
    "\n",
    "print(\"DataFrame (학생 정보와 성적):\")\n",
    "print(df)\n"
   ]
  },
  {
   "cell_type": "code",
   "execution_count": 2,
   "metadata": {},
   "outputs": [
    {
     "name": "stdout",
     "output_type": "stream",
     "text": [
      "Name 열 데이터:\n",
      "0      Alice\n",
      "1        Bob\n",
      "2    Charlie\n",
      "3      David\n",
      "Name: Name, dtype: object\n",
      "\n",
      "첫 번째 학생의 정보:\n",
      "Name     Alice\n",
      "Age         23\n",
      "Grade        A\n",
      "Score     88.5\n",
      "Name: 0, dtype: object\n",
      "\n",
      "'Charlie' 학생의 점수: 85.0\n"
     ]
    }
   ],
   "source": [
    "# 특정 열에 접근\n",
    "print(\"Name 열 데이터:\")\n",
    "print(df[\"Name\"])\n",
    "\n",
    "# 특정 행에 접근 (첫 번째 행)\n",
    "print(\"\\n첫 번째 학생의 정보:\")\n",
    "print(df.iloc[0])\n",
    "\n",
    "# 행과 열 인덱스를 통한 특정 값 접근\n",
    "print(\"\\n'Charlie' 학생의 점수:\", df.loc[2, \"Score\"])\n"
   ]
  },
  {
   "cell_type": "code",
   "execution_count": 3,
   "metadata": {},
   "outputs": [
    {
     "name": "stdout",
     "output_type": "stream",
     "text": [
      "\n",
      "점수가 85 이상인 학생들:\n",
      "      Name  Age Grade  Score\n",
      "0    Alice   23     A   88.5\n",
      "2  Charlie   22     B   85.0\n",
      "3    David   25     A   91.3\n",
      "\n",
      "첫 두 학생의 정보:\n",
      "    Name  Age Grade  Score\n",
      "0  Alice   23     A   88.5\n",
      "1    Bob   24     B   79.2\n",
      "\n",
      "점수를 5점씩 추가한 DataFrame:\n",
      "      Name  Age Grade  Score\n",
      "0    Alice   23     A   93.5\n",
      "1      Bob   24     B   84.2\n",
      "2  Charlie   22     B   90.0\n",
      "3    David   25     A   96.3\n"
     ]
    }
   ],
   "source": [
    "# 특정 조건으로 필터링: 점수가 85 이상인 학생들\n",
    "high_scorers = df[df[\"Score\"] >= 85]\n",
    "print(\"\\n점수가 85 이상인 학생들:\")\n",
    "print(high_scorers)\n",
    "\n",
    "# 슬라이싱: 첫 두 행만 선택\n",
    "print(\"\\n첫 두 학생의 정보:\")\n",
    "print(df.iloc[:2])\n",
    "\n",
    "# 열을 선택하여 변형: Score 열에 5점씩 추가\n",
    "df[\"Score\"] = df[\"Score\"] + 5\n",
    "print(\"\\n점수를 5점씩 추가한 DataFrame:\")\n",
    "print(df)\n"
   ]
  }
 ],
 "metadata": {
  "kernelspec": {
   "display_name": "Python 3",
   "language": "python",
   "name": "python3"
  },
  "language_info": {
   "codemirror_mode": {
    "name": "ipython",
    "version": 3
   },
   "file_extension": ".py",
   "mimetype": "text/x-python",
   "name": "python",
   "nbconvert_exporter": "python",
   "pygments_lexer": "ipython3",
   "version": "3.12.0"
  }
 },
 "nbformat": 4,
 "nbformat_minor": 2
}
