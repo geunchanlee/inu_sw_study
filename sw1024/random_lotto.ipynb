{
 "cells": [
  {
   "cell_type": "code",
   "execution_count": 23,
   "metadata": {},
   "outputs": [
    {
     "name": "stdout",
     "output_type": "stream",
     "text": [
      "[2, 8, 10, 15, 20, 22]\n",
      "[4, 5, 6, 8, 21, 23]\n",
      "[10, 13, 28, 29, 39, 40]\n",
      "[14, 17, 20, 22, 35, 43]\n",
      "[2, 7, 12, 27, 28, 29]\n"
     ]
    }
   ],
   "source": [
    "import random # random 모듈 불러오기\n",
    "\n",
    "lotto = []          # 로또용지 빈 리스트 lotto 선언하기\n",
    "for i in range(5):  # 5번 반복\n",
    "    line = []       # 한 줄을 저장할 line 리스트\n",
    "    while (True):   # 무한 반복\n",
    "        # randint(start, stop)\n",
    "        # start 이상 stop 이하 정수 임의 생성\n",
    "        num = random.randint(1,45)\n",
    "\n",
    "        if len(line) == 6:  # 번호 6개 추출시 반복에서 벗어남\n",
    "            break           # break: 가장 가까운 반복문을 종료함\n",
    "        if num not in line: # 생성한 번호가 line 리스트에 없다면 리스트에 삽입\n",
    "            line.append(num)\n",
    "\n",
    "    # 번호 오름차순으로 정렬하고 lotto 리스트에 리스트를 넣기\n",
    "    line.sort()\n",
    "    lotto.append(line)\n",
    "\n",
    "# 반복문으로 출력\n",
    "# for j in range(len(lotto)):\n",
    "#     print(lotto[j])\n",
    "\n",
    "# *로 출력\n",
    "print(*lotto, sep='\\n')"
   ]
  },
  {
   "cell_type": "code",
   "execution_count": 45,
   "metadata": {},
   "outputs": [
    {
     "name": "stdout",
     "output_type": "stream",
     "text": [
      "[5, 11, 16, 19, 32, 39]\n"
     ]
    }
   ],
   "source": [
    "# random.sample로 간편하게 생성\n",
    "lotto = sorted(random.sample(range(1,46), 6))\n",
    "print(lotto)"
   ]
  }
 ],
 "metadata": {
  "kernelspec": {
   "display_name": "Python 3",
   "language": "python",
   "name": "python3"
  },
  "language_info": {
   "codemirror_mode": {
    "name": "ipython",
    "version": 3
   },
   "file_extension": ".py",
   "mimetype": "text/x-python",
   "name": "python",
   "nbconvert_exporter": "python",
   "pygments_lexer": "ipython3",
   "version": "3.12.0"
  }
 },
 "nbformat": 4,
 "nbformat_minor": 2
}
